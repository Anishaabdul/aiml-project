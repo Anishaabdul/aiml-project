{
 "cells": [
  {
   "cell_type": "code",
   "execution_count": null,
   "id": "96562d6a-137a-4f1a-ba4a-ade24da57bee",
   "metadata": {},
   "outputs": [],
   "source": [
    "streamlit\n",
    "pandas\n",
    "numpy\n",
    "scikit-learn\n",
    "xgboost\n",
    "matplotlib\n",
    "seaborn\n"
   ]
  }
 ],
 "metadata": {
  "kernelspec": {
   "display_name": "Python 3 (ipykernel)",
   "language": "python",
   "name": "python3"
  },
  "language_info": {
   "codemirror_mode": {
    "name": "ipython",
    "version": 3
   },
   "file_extension": ".py",
   "mimetype": "text/x-python",
   "name": "python",
   "nbconvert_exporter": "python",
   "pygments_lexer": "ipython3",
   "version": "3.13.6"
  }
 },
 "nbformat": 4,
 "nbformat_minor": 5
}
